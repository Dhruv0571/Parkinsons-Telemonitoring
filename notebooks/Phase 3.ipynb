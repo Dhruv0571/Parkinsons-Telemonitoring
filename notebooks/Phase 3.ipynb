{
 "cells": [
  {
   "cell_type": "markdown",
   "metadata": {},
   "source": [
    "## 1. Project: Parkinsons Telemonitoring Phase 3\n",
    "##### Name: Kalyan kumar Papani\n",
    "#####             Ayush VimalKumar Patel\n",
    "#####             Dhruv Harishkumar Patel\n",
    "#####             Miliben Vineshkumar Patel\n",
    "#####             Sirivenni Pati"
   ]
  },
  {
   "cell_type": "markdown",
   "metadata": {},
   "source": [
    "## 2. Import Statements"
   ]
  },
  {
   "cell_type": "code",
   "execution_count": 16,
   "metadata": {
    "id": "#VSC-954dbce7"
   },
   "outputs": [],
   "source": [
    "import random as R\n",
    "import math\n",
    "from dataclasses import dataclass\n",
    "from matplotlib import pyplot as plt\n",
    "import pandas as pd\n",
    "from ucimlrepo import fetch_ucirepo\n",
    "import csv\n",
    "import numpy as np\n",
    "import mysql.connector\n",
    "from sklearn.naive_bayes import GaussianNB\n",
    "from sklearn.utils import class_weight\n",
    "from sklearn.preprocessing import MinMaxScaler\n",
    "from sklearn.model_selection import cross_val_score\n",
    "from sklearn.ensemble import RandomForestClassifier\n",
    "from sklearn.linear_model import LogisticRegression\n",
    "from sklearn.preprocessing import StandardScaler\n",
    "from sklearn.model_selection import train_test_split\n",
    "from sklearn.neighbors import KNeighborsClassifier\n",
    "from sklearn.neighbors import NearestCentroid\n",
    "from sklearn.metrics import confusion_matrix, accuracy_score, precision_score, recall_score, f1_score, classification_report"
   ]
  },
  {
   "cell_type": "markdown",
   "metadata": {},
   "source": [
    "## 3. Probabilistic Classifier Code"
   ]
  },
  {
   "cell_type": "code",
   "execution_count": 17,
   "metadata": {
    "id": "#VSC-72b63d52"
   },
   "outputs": [],
   "source": [
    "def connect_to_db():\n",
    "    return mysql.connector.connect(\n",
    "        user='root',\n",
    "        password='Dhruv@12121996',\n",
    "        host='localhost',\n",
    "        database='ParkinsonsDB'\n",
    "    )\n",
    "\n",
    "def fetch_data_from_table(table_name):\n",
    "    # Function to fetch data from a specific table\n",
    "    conn = connect_to_db()\n",
    "    cursor = conn.cursor()\n",
    "\n",
    "    query = f\"SELECT * FROM {table_name}\"\n",
    "\n",
    "    cursor.execute(query)\n",
    "    columns = [desc[0] for desc in cursor.description]  \n",
    "    data = cursor.fetchall()\n",
    "\n",
    "    df = pd.DataFrame(data, columns=columns)\n",
    "\n",
    "    conn.close()\n",
    "    return df\n",
    "\n",
    "def prepare_data():\n",
    "    # Retrieve data for classification\n",
    "    training_data = fetch_data_from_table('Training')\n",
    "    testing_data = fetch_data_from_table('Testing')\n",
    "\n",
    "    common_columns = list(set(training_data.columns) & set(testing_data.columns))\n",
    "    common_columns.remove('sex')  # Exclude target column\n",
    "    training_data['sex'] = training_data['sex'].astype(float).astype(int)\n",
    "    testing_data['sex'] = testing_data['sex'].astype(float).astype(int)\n",
    "    X_train, X_test, y_train, y_test = train_test_split(\n",
    "        training_data[common_columns],  # Features\n",
    "        training_data['sex'],           # Target variable\n",
    "        test_size=0.2,                  # Adjust the test size if needed\n",
    "        stratify=training_data['sex'],  # Ensure stratified split based on 'sex'\n",
    "        random_state=42                 # Set a random state for reproducibility\n",
    "    )\n",
    "    \n",
    "    return X_train, y_train, X_test, y_test"
   ]
  },
  {
   "cell_type": "code",
   "execution_count": 18,
   "metadata": {
    "id": "#VSC-36d86949"
   },
   "outputs": [],
   "source": [
    "def probabilistic_classifier(X_train, y_train, X_test, y_test):\n",
    "    logistic_model = LogisticRegression(max_iter=1000)\n",
    "    logistic_model.fit(X_train, y_train)\n",
    "    predicted_probabilities = logistic_model.predict_proba(X_test)\n",
    "    \n",
    "    # Use a threshold to convert probabilities to labels\n",
    "    threshold = 0.5  # Adjust this threshold if needed\n",
    "    predicted_labels = (predicted_probabilities[:, 1] >= threshold).astype(int)\n",
    "    \n",
    "    confusion_mat = confusion_matrix(y_test, predicted_labels)\n",
    "    accuracy = accuracy_score(y_test, predicted_labels)\n",
    "    precision = precision_score(y_test, predicted_labels)\n",
    "    recall = recall_score(y_test, predicted_labels)\n",
    "    f1 = f1_score(y_test, predicted_labels)\n",
    "    \n",
    "    return confusion_mat, accuracy, precision, recall, f1"
   ]
  },
  {
   "cell_type": "code",
   "execution_count": 19,
   "metadata": {
    "id": "#VSC-66d7f2cb"
   },
   "outputs": [],
   "source": [
    "X_train, y_train, X_test, y_test = prepare_data()\n",
    "confusion_mat, acc, prec, rec, f1 = probabilistic_classifier(X_train, y_train, X_test, y_test)"
   ]
  },
  {
   "cell_type": "code",
   "execution_count": 20,
   "metadata": {
    "id": "#VSC-95bf612f"
   },
   "outputs": [
    {
     "data": {
      "text/html": [
       "<div>\n",
       "<style scoped>\n",
       "    .dataframe tbody tr th:only-of-type {\n",
       "        vertical-align: middle;\n",
       "    }\n",
       "\n",
       "    .dataframe tbody tr th {\n",
       "        vertical-align: top;\n",
       "    }\n",
       "\n",
       "    .dataframe thead th {\n",
       "        text-align: right;\n",
       "    }\n",
       "</style>\n",
       "<table border=\"1\" class=\"dataframe\">\n",
       "  <thead>\n",
       "    <tr style=\"text-align: right;\">\n",
       "      <th></th>\n",
       "      <th>NHR</th>\n",
       "      <th>DFA</th>\n",
       "      <th>subject_id</th>\n",
       "      <th>Shimmer_APQ5</th>\n",
       "      <th>Shimmer_dB</th>\n",
       "      <th>motor_UPDRS</th>\n",
       "      <th>age</th>\n",
       "      <th>Shimmer_DDA</th>\n",
       "      <th>total_UPDRS</th>\n",
       "      <th>PPE</th>\n",
       "      <th>...</th>\n",
       "      <th>test_time</th>\n",
       "      <th>Jitter_percent</th>\n",
       "      <th>RPDE</th>\n",
       "      <th>Shimmer</th>\n",
       "      <th>Shimmer_APQ3</th>\n",
       "      <th>Shimmer_APQ11</th>\n",
       "      <th>HNR</th>\n",
       "      <th>Jitter_Abs</th>\n",
       "      <th>Jitter_RAP</th>\n",
       "      <th>Jitter_PPQ5</th>\n",
       "    </tr>\n",
       "  </thead>\n",
       "  <tbody>\n",
       "    <tr>\n",
       "      <th>15511</th>\n",
       "      <td>0.433340</td>\n",
       "      <td>0.63669</td>\n",
       "      <td>36</td>\n",
       "      <td>0.13833</td>\n",
       "      <td>1.546</td>\n",
       "      <td>20.125</td>\n",
       "      <td>62</td>\n",
       "      <td>0.27547</td>\n",
       "      <td>26.964</td>\n",
       "      <td>0.502760</td>\n",
       "      <td>...</td>\n",
       "      <td>14.304</td>\n",
       "      <td>0.04430</td>\n",
       "      <td>0.76178</td>\n",
       "      <td>0.18027</td>\n",
       "      <td>0.09182</td>\n",
       "      <td>0.14169</td>\n",
       "      <td>4.739</td>\n",
       "      <td>0.000241</td>\n",
       "      <td>0.02245</td>\n",
       "      <td>0.03156</td>\n",
       "    </tr>\n",
       "    <tr>\n",
       "      <th>13729</th>\n",
       "      <td>0.009698</td>\n",
       "      <td>0.53239</td>\n",
       "      <td>15</td>\n",
       "      <td>0.00543</td>\n",
       "      <td>0.109</td>\n",
       "      <td>15.000</td>\n",
       "      <td>65</td>\n",
       "      <td>0.01515</td>\n",
       "      <td>20.491</td>\n",
       "      <td>0.060347</td>\n",
       "      <td>...</td>\n",
       "      <td>110.510</td>\n",
       "      <td>0.00259</td>\n",
       "      <td>0.42563</td>\n",
       "      <td>0.01109</td>\n",
       "      <td>0.00505</td>\n",
       "      <td>0.00760</td>\n",
       "      <td>32.223</td>\n",
       "      <td>0.000013</td>\n",
       "      <td>0.00124</td>\n",
       "      <td>0.00093</td>\n",
       "    </tr>\n",
       "    <tr>\n",
       "      <th>952</th>\n",
       "      <td>0.015888</td>\n",
       "      <td>0.70643</td>\n",
       "      <td>35</td>\n",
       "      <td>0.02170</td>\n",
       "      <td>0.361</td>\n",
       "      <td>34.857</td>\n",
       "      <td>71</td>\n",
       "      <td>0.05721</td>\n",
       "      <td>53.572</td>\n",
       "      <td>0.270450</td>\n",
       "      <td>...</td>\n",
       "      <td>174.420</td>\n",
       "      <td>0.00615</td>\n",
       "      <td>0.44720</td>\n",
       "      <td>0.03777</td>\n",
       "      <td>0.01907</td>\n",
       "      <td>0.03237</td>\n",
       "      <td>19.483</td>\n",
       "      <td>0.000041</td>\n",
       "      <td>0.00280</td>\n",
       "      <td>0.00342</td>\n",
       "    </tr>\n",
       "    <tr>\n",
       "      <th>8960</th>\n",
       "      <td>0.016354</td>\n",
       "      <td>0.75601</td>\n",
       "      <td>27</td>\n",
       "      <td>0.04559</td>\n",
       "      <td>0.670</td>\n",
       "      <td>10.633</td>\n",
       "      <td>57</td>\n",
       "      <td>0.12069</td>\n",
       "      <td>14.633</td>\n",
       "      <td>0.333690</td>\n",
       "      <td>...</td>\n",
       "      <td>78.473</td>\n",
       "      <td>0.00805</td>\n",
       "      <td>0.56999</td>\n",
       "      <td>0.07532</td>\n",
       "      <td>0.04023</td>\n",
       "      <td>0.05907</td>\n",
       "      <td>20.814</td>\n",
       "      <td>0.000048</td>\n",
       "      <td>0.00386</td>\n",
       "      <td>0.00373</td>\n",
       "    </tr>\n",
       "    <tr>\n",
       "      <th>1607</th>\n",
       "      <td>0.086837</td>\n",
       "      <td>0.72643</td>\n",
       "      <td>41</td>\n",
       "      <td>0.03867</td>\n",
       "      <td>0.618</td>\n",
       "      <td>35.109</td>\n",
       "      <td>68</td>\n",
       "      <td>0.09924</td>\n",
       "      <td>43.687</td>\n",
       "      <td>0.539840</td>\n",
       "      <td>...</td>\n",
       "      <td>161.510</td>\n",
       "      <td>0.01659</td>\n",
       "      <td>0.65900</td>\n",
       "      <td>0.06716</td>\n",
       "      <td>0.03308</td>\n",
       "      <td>0.05994</td>\n",
       "      <td>14.596</td>\n",
       "      <td>0.000110</td>\n",
       "      <td>0.00696</td>\n",
       "      <td>0.00928</td>\n",
       "    </tr>\n",
       "  </tbody>\n",
       "</table>\n",
       "<p>5 rows × 21 columns</p>\n",
       "</div>"
      ],
      "text/plain": [
       "            NHR      DFA  subject_id  Shimmer_APQ5  Shimmer_dB  motor_UPDRS  \\\n",
       "15511  0.433340  0.63669          36       0.13833       1.546       20.125   \n",
       "13729  0.009698  0.53239          15       0.00543       0.109       15.000   \n",
       "952    0.015888  0.70643          35       0.02170       0.361       34.857   \n",
       "8960   0.016354  0.75601          27       0.04559       0.670       10.633   \n",
       "1607   0.086837  0.72643          41       0.03867       0.618       35.109   \n",
       "\n",
       "       age  Shimmer_DDA  total_UPDRS       PPE  ...  test_time  \\\n",
       "15511   62      0.27547       26.964  0.502760  ...     14.304   \n",
       "13729   65      0.01515       20.491  0.060347  ...    110.510   \n",
       "952     71      0.05721       53.572  0.270450  ...    174.420   \n",
       "8960    57      0.12069       14.633  0.333690  ...     78.473   \n",
       "1607    68      0.09924       43.687  0.539840  ...    161.510   \n",
       "\n",
       "       Jitter_percent     RPDE  Shimmer  Shimmer_APQ3  Shimmer_APQ11     HNR  \\\n",
       "15511         0.04430  0.76178  0.18027       0.09182        0.14169   4.739   \n",
       "13729         0.00259  0.42563  0.01109       0.00505        0.00760  32.223   \n",
       "952           0.00615  0.44720  0.03777       0.01907        0.03237  19.483   \n",
       "8960          0.00805  0.56999  0.07532       0.04023        0.05907  20.814   \n",
       "1607          0.01659  0.65900  0.06716       0.03308        0.05994  14.596   \n",
       "\n",
       "       Jitter_Abs  Jitter_RAP  Jitter_PPQ5  \n",
       "15511    0.000241     0.02245      0.03156  \n",
       "13729    0.000013     0.00124      0.00093  \n",
       "952      0.000041     0.00280      0.00342  \n",
       "8960     0.000048     0.00386      0.00373  \n",
       "1607     0.000110     0.00696      0.00928  \n",
       "\n",
       "[5 rows x 21 columns]"
      ]
     },
     "execution_count": 20,
     "metadata": {},
     "output_type": "execute_result"
    }
   ],
   "source": [
    "X_train.head()"
   ]
  },
  {
   "cell_type": "code",
   "execution_count": 21,
   "metadata": {
    "id": "#VSC-eb2c384b"
   },
   "outputs": [
    {
     "data": {
      "text/html": [
       "<div>\n",
       "<style scoped>\n",
       "    .dataframe tbody tr th:only-of-type {\n",
       "        vertical-align: middle;\n",
       "    }\n",
       "\n",
       "    .dataframe tbody tr th {\n",
       "        vertical-align: top;\n",
       "    }\n",
       "\n",
       "    .dataframe thead th {\n",
       "        text-align: right;\n",
       "    }\n",
       "</style>\n",
       "<table border=\"1\" class=\"dataframe\">\n",
       "  <thead>\n",
       "    <tr style=\"text-align: right;\">\n",
       "      <th></th>\n",
       "      <th>NHR</th>\n",
       "      <th>DFA</th>\n",
       "      <th>subject_id</th>\n",
       "      <th>Shimmer_APQ5</th>\n",
       "      <th>Shimmer_dB</th>\n",
       "      <th>motor_UPDRS</th>\n",
       "      <th>age</th>\n",
       "      <th>Shimmer_DDA</th>\n",
       "      <th>total_UPDRS</th>\n",
       "      <th>PPE</th>\n",
       "      <th>...</th>\n",
       "      <th>test_time</th>\n",
       "      <th>Jitter_percent</th>\n",
       "      <th>RPDE</th>\n",
       "      <th>Shimmer</th>\n",
       "      <th>Shimmer_APQ3</th>\n",
       "      <th>Shimmer_APQ11</th>\n",
       "      <th>HNR</th>\n",
       "      <th>Jitter_Abs</th>\n",
       "      <th>Jitter_RAP</th>\n",
       "      <th>Jitter_PPQ5</th>\n",
       "    </tr>\n",
       "  </thead>\n",
       "  <tbody>\n",
       "    <tr>\n",
       "      <th>8219</th>\n",
       "      <td>0.014211</td>\n",
       "      <td>0.67342</td>\n",
       "      <td>11</td>\n",
       "      <td>0.01028</td>\n",
       "      <td>0.147</td>\n",
       "      <td>19.016</td>\n",
       "      <td>55</td>\n",
       "      <td>0.02456</td>\n",
       "      <td>23.740</td>\n",
       "      <td>0.21843</td>\n",
       "      <td>...</td>\n",
       "      <td>133.500</td>\n",
       "      <td>0.00385</td>\n",
       "      <td>0.41943</td>\n",
       "      <td>0.01682</td>\n",
       "      <td>0.00819</td>\n",
       "      <td>0.01322</td>\n",
       "      <td>25.426</td>\n",
       "      <td>0.000029</td>\n",
       "      <td>0.00153</td>\n",
       "      <td>0.00177</td>\n",
       "    </tr>\n",
       "    <tr>\n",
       "      <th>5628</th>\n",
       "      <td>0.012429</td>\n",
       "      <td>0.69819</td>\n",
       "      <td>26</td>\n",
       "      <td>0.02083</td>\n",
       "      <td>0.276</td>\n",
       "      <td>26.720</td>\n",
       "      <td>49</td>\n",
       "      <td>0.05312</td>\n",
       "      <td>34.533</td>\n",
       "      <td>0.19503</td>\n",
       "      <td>...</td>\n",
       "      <td>94.904</td>\n",
       "      <td>0.00378</td>\n",
       "      <td>0.68728</td>\n",
       "      <td>0.03264</td>\n",
       "      <td>0.01771</td>\n",
       "      <td>0.02542</td>\n",
       "      <td>21.382</td>\n",
       "      <td>0.000035</td>\n",
       "      <td>0.00189</td>\n",
       "      <td>0.00220</td>\n",
       "    </tr>\n",
       "    <tr>\n",
       "      <th>8591</th>\n",
       "      <td>0.032067</td>\n",
       "      <td>0.76863</td>\n",
       "      <td>24</td>\n",
       "      <td>0.02135</td>\n",
       "      <td>0.297</td>\n",
       "      <td>13.596</td>\n",
       "      <td>60</td>\n",
       "      <td>0.04556</td>\n",
       "      <td>18.192</td>\n",
       "      <td>0.21671</td>\n",
       "      <td>...</td>\n",
       "      <td>83.797</td>\n",
       "      <td>0.00547</td>\n",
       "      <td>0.50503</td>\n",
       "      <td>0.03326</td>\n",
       "      <td>0.01519</td>\n",
       "      <td>0.03745</td>\n",
       "      <td>17.391</td>\n",
       "      <td>0.000048</td>\n",
       "      <td>0.00225</td>\n",
       "      <td>0.00302</td>\n",
       "    </tr>\n",
       "    <tr>\n",
       "      <th>2801</th>\n",
       "      <td>0.009875</td>\n",
       "      <td>0.65258</td>\n",
       "      <td>14</td>\n",
       "      <td>0.00541</td>\n",
       "      <td>0.085</td>\n",
       "      <td>11.875</td>\n",
       "      <td>58</td>\n",
       "      <td>0.01300</td>\n",
       "      <td>16.715</td>\n",
       "      <td>0.21505</td>\n",
       "      <td>...</td>\n",
       "      <td>76.381</td>\n",
       "      <td>0.00367</td>\n",
       "      <td>0.33836</td>\n",
       "      <td>0.00897</td>\n",
       "      <td>0.00433</td>\n",
       "      <td>0.00800</td>\n",
       "      <td>25.095</td>\n",
       "      <td>0.000020</td>\n",
       "      <td>0.00179</td>\n",
       "      <td>0.00212</td>\n",
       "    </tr>\n",
       "    <tr>\n",
       "      <th>4604</th>\n",
       "      <td>0.005492</td>\n",
       "      <td>0.54587</td>\n",
       "      <td>1</td>\n",
       "      <td>0.01083</td>\n",
       "      <td>0.175</td>\n",
       "      <td>29.435</td>\n",
       "      <td>72</td>\n",
       "      <td>0.02931</td>\n",
       "      <td>36.870</td>\n",
       "      <td>0.17409</td>\n",
       "      <td>...</td>\n",
       "      <td>40.655</td>\n",
       "      <td>0.00335</td>\n",
       "      <td>0.42962</td>\n",
       "      <td>0.01924</td>\n",
       "      <td>0.00977</td>\n",
       "      <td>0.01701</td>\n",
       "      <td>25.086</td>\n",
       "      <td>0.000017</td>\n",
       "      <td>0.00151</td>\n",
       "      <td>0.00159</td>\n",
       "    </tr>\n",
       "  </tbody>\n",
       "</table>\n",
       "<p>5 rows × 21 columns</p>\n",
       "</div>"
      ],
      "text/plain": [
       "           NHR      DFA  subject_id  Shimmer_APQ5  Shimmer_dB  motor_UPDRS  \\\n",
       "8219  0.014211  0.67342          11       0.01028       0.147       19.016   \n",
       "5628  0.012429  0.69819          26       0.02083       0.276       26.720   \n",
       "8591  0.032067  0.76863          24       0.02135       0.297       13.596   \n",
       "2801  0.009875  0.65258          14       0.00541       0.085       11.875   \n",
       "4604  0.005492  0.54587           1       0.01083       0.175       29.435   \n",
       "\n",
       "      age  Shimmer_DDA  total_UPDRS      PPE  ...  test_time  Jitter_percent  \\\n",
       "8219   55      0.02456       23.740  0.21843  ...    133.500         0.00385   \n",
       "5628   49      0.05312       34.533  0.19503  ...     94.904         0.00378   \n",
       "8591   60      0.04556       18.192  0.21671  ...     83.797         0.00547   \n",
       "2801   58      0.01300       16.715  0.21505  ...     76.381         0.00367   \n",
       "4604   72      0.02931       36.870  0.17409  ...     40.655         0.00335   \n",
       "\n",
       "         RPDE  Shimmer  Shimmer_APQ3  Shimmer_APQ11     HNR  Jitter_Abs  \\\n",
       "8219  0.41943  0.01682       0.00819        0.01322  25.426    0.000029   \n",
       "5628  0.68728  0.03264       0.01771        0.02542  21.382    0.000035   \n",
       "8591  0.50503  0.03326       0.01519        0.03745  17.391    0.000048   \n",
       "2801  0.33836  0.00897       0.00433        0.00800  25.095    0.000020   \n",
       "4604  0.42962  0.01924       0.00977        0.01701  25.086    0.000017   \n",
       "\n",
       "      Jitter_RAP  Jitter_PPQ5  \n",
       "8219     0.00153      0.00177  \n",
       "5628     0.00189      0.00220  \n",
       "8591     0.00225      0.00302  \n",
       "2801     0.00179      0.00212  \n",
       "4604     0.00151      0.00159  \n",
       "\n",
       "[5 rows x 21 columns]"
      ]
     },
     "execution_count": 21,
     "metadata": {},
     "output_type": "execute_result"
    }
   ],
   "source": [
    "X_test.head()"
   ]
  },
  {
   "cell_type": "code",
   "execution_count": 22,
   "metadata": {
    "id": "#VSC-eda4435d"
   },
   "outputs": [
    {
     "data": {
      "text/plain": [
       "15511    1\n",
       "13729    0\n",
       "952      0\n",
       "8960     1\n",
       "1607     1\n",
       "Name: sex, dtype: int32"
      ]
     },
     "execution_count": 22,
     "metadata": {},
     "output_type": "execute_result"
    }
   ],
   "source": [
    "y_train.head()"
   ]
  },
  {
   "cell_type": "code",
   "execution_count": 23,
   "metadata": {
    "id": "#VSC-9e8f137a"
   },
   "outputs": [
    {
     "data": {
      "text/plain": [
       "8219    0\n",
       "5628    0\n",
       "8591    0\n",
       "2801    1\n",
       "4604    0\n",
       "Name: sex, dtype: int32"
      ]
     },
     "execution_count": 23,
     "metadata": {},
     "output_type": "execute_result"
    }
   ],
   "source": [
    "y_test.head()"
   ]
  },
  {
   "cell_type": "markdown",
   "metadata": {},
   "source": [
    "## 4. Probabilistic Classification Results"
   ]
  },
  {
   "cell_type": "code",
   "execution_count": 24,
   "metadata": {
    "id": "#VSC-ca2eb11c"
   },
   "outputs": [
    {
     "name": "stdout",
     "output_type": "stream",
     "text": [
      "Confusion Matrix for Probabilistic Classifier:\n",
      " [[2091  328]\n",
      " [ 599  507]]\n",
      "Accuracy: 0.7370212765957447\n",
      "Precision: 0.6071856287425149\n",
      "Recall: 0.45840867992766726\n",
      "F1-score: 0.5224111282843894\n"
     ]
    }
   ],
   "source": [
    "print(\"Confusion Matrix for Probabilistic Classifier:\\n\", confusion_mat)\n",
    "print(\"Accuracy:\", acc)\n",
    "print(\"Precision:\", prec)\n",
    "print(\"Recall:\", rec)\n",
    "print(\"F1-score:\", f1)"
   ]
  },
  {
   "cell_type": "markdown",
   "metadata": {},
   "source": [
    "## 5. Euclidean Distance Classifier"
   ]
  },
  {
   "cell_type": "code",
   "execution_count": 25,
   "metadata": {
    "id": "#VSC-7a7da97e"
   },
   "outputs": [],
   "source": [
    "def euclidean_distance_classifier(X_train, y_train, X_test, y_test):\n",
    "    knn = KNeighborsClassifier(n_neighbors=5, metric='euclidean')\n",
    "    knn.fit(X_train, y_train)\n",
    "    predictions_euclidean = knn.predict(X_test)\n",
    "    \n",
    "    confusion_matrix_knn = confusion_matrix(y_test, predictions_euclidean)\n",
    "    \n",
    "    return predictions_euclidean, confusion_matrix_knn\n",
    "X_train = np.array(X_train)\n",
    "X_test = np.array(X_test)"
   ]
  },
  {
   "cell_type": "markdown",
   "metadata": {},
   "source": [
    "## 6. Euclidean Distance Classification Results"
   ]
  },
  {
   "cell_type": "code",
   "execution_count": 26,
   "metadata": {
    "id": "#VSC-0af8debf"
   },
   "outputs": [
    {
     "name": "stdout",
     "output_type": "stream",
     "text": [
      "Classification Report for Euclidean Distance Classifier:\n",
      "              precision    recall  f1-score   support\n",
      "\n",
      "           0       1.00      1.00      1.00      2419\n",
      "           1       1.00      1.00      1.00      1106\n",
      "\n",
      "    accuracy                           1.00      3525\n",
      "   macro avg       1.00      1.00      1.00      3525\n",
      "weighted avg       1.00      1.00      1.00      3525\n",
      "\n"
     ]
    }
   ],
   "source": [
    "euclidean_predictions, confusion_matrix_euclidean = euclidean_distance_classifier(X_train, y_train, X_test, y_test)\n",
    "print('Classification Report for Euclidean Distance Classifier:')\n",
    "print(classification_report(y_test, euclidean_predictions))"
   ]
  },
  {
   "cell_type": "code",
   "execution_count": 27,
   "metadata": {
    "id": "#VSC-1e88bc2b"
   },
   "outputs": [
    {
     "name": "stdout",
     "output_type": "stream",
     "text": [
      "[[2417    2]\n",
      " [   5 1101]]\n"
     ]
    }
   ],
   "source": [
    "print(confusion_matrix_euclidean)"
   ]
  },
  {
   "cell_type": "markdown",
   "metadata": {},
   "source": [
    "## 7. Cosine Similarity Classifier"
   ]
  },
  {
   "cell_type": "code",
   "execution_count": 28,
   "metadata": {
    "id": "#VSC-ab081aaa"
   },
   "outputs": [],
   "source": [
    "def cosine_similarity_classifier(X_train, y_train, X_test, y_test):\n",
    "    knn = KNeighborsClassifier(n_neighbors=5, metric='cosine')\n",
    "    knn.fit(X_train, y_train)\n",
    "    predictions_cosine = knn.predict(X_test)\n",
    "    \n",
    "    confusion_matrix_cosine = confusion_matrix(y_test, predictions_cosine)\n",
    "    \n",
    "    return predictions_cosine, confusion_matrix_cosine"
   ]
  },
  {
   "cell_type": "markdown",
   "metadata": {},
   "source": [
    "## 8. Cosine Similarity Classification Results"
   ]
  },
  {
   "cell_type": "code",
   "execution_count": 29,
   "metadata": {
    "id": "#VSC-31f8631a"
   },
   "outputs": [
    {
     "name": "stdout",
     "output_type": "stream",
     "text": [
      "Classification Report for Cosine Similarity Classifier:\n",
      "              precision    recall  f1-score   support\n",
      "\n",
      "           0       1.00      0.99      0.99      2419\n",
      "           1       0.98      0.99      0.98      1106\n",
      "\n",
      "    accuracy                           0.99      3525\n",
      "   macro avg       0.99      0.99      0.99      3525\n",
      "weighted avg       0.99      0.99      0.99      3525\n",
      "\n"
     ]
    }
   ],
   "source": [
    "cosine_predictions, confusion_matrix_cosine = cosine_similarity_classifier(X_train, y_train, X_test, y_test)\n",
    "print('Classification Report for Cosine Similarity Classifier:')\n",
    "print(classification_report(y_test, cosine_predictions))"
   ]
  },
  {
   "cell_type": "code",
   "execution_count": 30,
   "metadata": {
    "id": "#VSC-5e82e63e"
   },
   "outputs": [
    {
     "name": "stdout",
     "output_type": "stream",
     "text": [
      "[[2393   26]\n",
      " [  11 1095]]\n"
     ]
    }
   ],
   "source": [
    "print(confusion_matrix_cosine)"
   ]
  },
  {
   "cell_type": "code",
   "execution_count": null,
   "metadata": {
    "id": "#VSC-2f58237f"
   },
   "outputs": [],
   "source": []
  }
 ],
 "metadata": {
  "kernelspec": {
   "display_name": "base",
   "language": "python",
   "name": "python3"
  },
  "language_info": {
   "codemirror_mode": {
    "name": "ipython",
    "version": 3
   },
   "file_extension": ".py",
   "mimetype": "text/x-python",
   "name": "python",
   "nbconvert_exporter": "python",
   "pygments_lexer": "ipython3",
   "version": "3.11.4"
  }
 },
 "nbformat": 4,
 "nbformat_minor": 4
}
